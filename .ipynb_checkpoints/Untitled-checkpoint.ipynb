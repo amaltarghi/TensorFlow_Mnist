{
 "cells": [
  {
   "cell_type": "code",
   "execution_count": 17,
   "metadata": {
    "collapsed": true
   },
   "outputs": [],
   "source": [
    "import tensorflow as tf\n",
    "from tensorflow.examples.tutorials.mnist import input_data\n",
    "import matplotlib.pyplot as plt\n",
    "import matplotlib.cm as cm\n",
    "import matplotlib\n",
    "import random\n",
    "import numpy \n",
    "#parameters\n",
    "e = tf.placeholder(tf.float32, [None, 784])\n",
    "w = tf.Variable(tf.zeros([784, 10]))\n",
    "b = tf.Variable(tf.zeros([10]))\n",
    "#activation\n",
    "A = tf.nn.softmax(tf.matmul(e,w)+b)\n",
    "#training\n",
    "y_=tf.placeholder(tf.float32, [None,10])\n",
    "cross_entropy = tf.reduce_mean(-tf.reduce_sum(y_*tf.log(A),reduction_indices=[1]))\n",
    "#minimise the cross entropy using the descent gradient step gradient = 0.2\n",
    "train_step = tf.train.GradientDescentOptimizer(0.2).minimize(cross_entropy)\n",
    "#initalize the defined variables\n",
    "init = tf.initialize_all_variables()\n",
    "# start tensorflow session\n",
    "sess= tf.session()\n",
    "sess.run(init)\n",
    "# training with our data 1000 iteration batch = 100\n",
    "mnist = input_data.read_data_sets(\"MNIST_data/\", one_hot=True)\n",
    "for i in range(1000):\n",
    "    batch_xs,batch_ys = mnist.train.next_batch(100)\n",
    "    sess.run(train_step,feed_dict={e:batch_xs,y_:batch_ys})\n",
    "#Evaluating Our Model\n",
    "prediction = tf.argmax(y,1)\n",
    "correct_prediction = tf.equal(prediction, tf.argmax(y_,1))\n",
    "accuracy = tf.reduce_mean(tf.cast(correct_prediction, tf.float32))\n",
    "#Finally, we ask for our accuracy on our test data\n",
    "print(sess.run(accuracy, feed_dict={x: mnist.test.images, y_: mnist.test.labels}))\n",
    "\n",
    "#determine randomly an int references and element of training set\n",
    "index=random.randint(0,len(mnist.train.images))\n",
    "\n",
    "#take the image on the index and resize it 28*28 pixel\n",
    "img= mnist.train.images[index]\n",
    "img = img.reshape((28,28))\n",
    "\n",
    "# the label associed to the image\n",
    "label=mnist.test.labels[index]\n",
    "num= numpy.where(label ==1) [0][0]\n",
    "\n",
    "pred_num = sess.run(prediction,feed_dict={e:mnist.test.images,y_:mnit.test.label}[index])\n",
    "\n",
    "fig = plt.figure()\n",
    "fig.suptitle (' write of a manuscrite {} (prédiction : {})'.format(num),fontsize =14 , fontweight = 'bold' , color  = 'blue')\n",
    "plt.imshow(img,cmap =cm.Greys)\n",
    "plt.show()\n"
   ]
  },
  {
   "cell_type": "code",
   "execution_count": 25,
   "metadata": {
    "collapsed": false
   },
   "outputs": [],
   "source": []
  },
  {
   "cell_type": "code",
   "execution_count": 29,
   "metadata": {
    "collapsed": false
   },
   "outputs": [],
   "source": []
  },
  {
   "cell_type": "code",
   "execution_count": 31,
   "metadata": {
    "collapsed": true
   },
   "outputs": [],
   "source": []
  },
  {
   "cell_type": "code",
   "execution_count": null,
   "metadata": {
    "collapsed": true
   },
   "outputs": [],
   "source": [
    "\n"
   ]
  }
 ],
 "metadata": {
  "anaconda-cloud": {},
  "kernelspec": {
   "display_name": "Python [default]",
   "language": "python",
   "name": "python3"
  },
  "language_info": {
   "codemirror_mode": {
    "name": "ipython",
    "version": 3
   },
   "file_extension": ".py",
   "mimetype": "text/x-python",
   "name": "python",
   "nbconvert_exporter": "python",
   "pygments_lexer": "ipython3",
   "version": "3.5.2"
  }
 },
 "nbformat": 4,
 "nbformat_minor": 1
}
